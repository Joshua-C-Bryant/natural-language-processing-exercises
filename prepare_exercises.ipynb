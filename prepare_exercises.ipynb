{
 "cells": [
  {
   "cell_type": "code",
   "execution_count": 2,
   "id": "80fedfab",
   "metadata": {},
   "outputs": [],
   "source": [
    "import unicodedata\n",
    "import re\n",
    "import json\n",
    "\n",
    "import nltk\n",
    "from nltk.tokenize.toktok import ToktokTokenizer\n",
    "from nltk.corpus import stopwords\n",
    "\n",
    "import pandas as pd\n",
    "\n",
    "import acquire\n",
    "from time import strftime"
   ]
  },
  {
   "cell_type": "code",
   "execution_count": 3,
   "id": "ae4b18e4",
   "metadata": {},
   "outputs": [
    {
     "name": "stderr",
     "output_type": "stream",
     "text": [
      "/Users/Josh/codeup-data-science/natural-language-processing-exercises/acquire.py:120: GuessedAtParserWarning: No parser was explicitly specified, so I'm using the best available HTML parser for this system (\"lxml\"). This usually isn't a problem, but if you run this code on another system, or in a different virtual environment, it may use a different parser and behave differently.\n",
      "\n",
      "The code that caused this warning is on line 120 of the file /Users/Josh/codeup-data-science/natural-language-processing-exercises/acquire.py. To get rid of this warning, pass the additional argument 'features=\"lxml\"' to the BeautifulSoup constructor.\n",
      "\n",
      "  soup = BeautifulSoup(response.text)\n"
     ]
    }
   ],
   "source": [
    "# define categories\n",
    "categories = [\"business\", \"sports\", \"technology\", \"entertainment\"]\n",
    "\n",
    "# use get_all_new_article function from acquire.py file \n",
    "\n",
    "news_df = acquire.get_all_news_articles(categories)"
   ]
  },
  {
   "cell_type": "code",
   "execution_count": 4,
   "id": "68f027a5",
   "metadata": {},
   "outputs": [
    {
     "data": {
      "text/html": [
       "<div>\n",
       "<style scoped>\n",
       "    .dataframe tbody tr th:only-of-type {\n",
       "        vertical-align: middle;\n",
       "    }\n",
       "\n",
       "    .dataframe tbody tr th {\n",
       "        vertical-align: top;\n",
       "    }\n",
       "\n",
       "    .dataframe thead th {\n",
       "        text-align: right;\n",
       "    }\n",
       "</style>\n",
       "<table border=\"1\" class=\"dataframe\">\n",
       "  <thead>\n",
       "    <tr style=\"text-align: right;\">\n",
       "      <th></th>\n",
       "      <th>title</th>\n",
       "      <th>content</th>\n",
       "      <th>category</th>\n",
       "    </tr>\n",
       "  </thead>\n",
       "  <tbody>\n",
       "    <tr>\n",
       "      <th>0</th>\n",
       "      <td>'Can't great teams have an off season?': Wipro...</td>\n",
       "      <td>Wipro's Chairman Rishad Premji took to Twitter...</td>\n",
       "      <td>business</td>\n",
       "    </tr>\n",
       "    <tr>\n",
       "      <th>1</th>\n",
       "      <td>'Squid Game' crypto that hit $2,862 after 2,30...</td>\n",
       "      <td>Netflix show 'Squid Game' inspired cryptocurre...</td>\n",
       "      <td>business</td>\n",
       "    </tr>\n",
       "    <tr>\n",
       "      <th>2</th>\n",
       "      <td>App accuses Meta of copying its logo, shares i...</td>\n",
       "      <td>A Berlin-based migraine app has accused Mark Z...</td>\n",
       "      <td>business</td>\n",
       "    </tr>\n",
       "    <tr>\n",
       "      <th>3</th>\n",
       "      <td>TikTok owner ByteDance breaks China's '996' wo...</td>\n",
       "      <td>TikTok owner ByteDance has mandated its employ...</td>\n",
       "      <td>business</td>\n",
       "    </tr>\n",
       "    <tr>\n",
       "      <th>4</th>\n",
       "      <td>$6 bn won't solve world hunger but it will sav...</td>\n",
       "      <td>UN World Food Programme's Chief David Beasley ...</td>\n",
       "      <td>business</td>\n",
       "    </tr>\n",
       "  </tbody>\n",
       "</table>\n",
       "</div>"
      ],
      "text/plain": [
       "                                               title  \\\n",
       "0  'Can't great teams have an off season?': Wipro...   \n",
       "1  'Squid Game' crypto that hit $2,862 after 2,30...   \n",
       "2  App accuses Meta of copying its logo, shares i...   \n",
       "3  TikTok owner ByteDance breaks China's '996' wo...   \n",
       "4  $6 bn won't solve world hunger but it will sav...   \n",
       "\n",
       "                                             content  category  \n",
       "0  Wipro's Chairman Rishad Premji took to Twitter...  business  \n",
       "1  Netflix show 'Squid Game' inspired cryptocurre...  business  \n",
       "2  A Berlin-based migraine app has accused Mark Z...  business  \n",
       "3  TikTok owner ByteDance has mandated its employ...  business  \n",
       "4  UN World Food Programme's Chief David Beasley ...  business  "
      ]
     },
     "execution_count": 4,
     "metadata": {},
     "output_type": "execute_result"
    }
   ],
   "source": [
    "# look at the head of dataframe\n",
    "news_df.head()"
   ]
  },
  {
   "cell_type": "code",
   "execution_count": 5,
   "id": "dcc8e221",
   "metadata": {},
   "outputs": [
    {
     "data": {
      "text/plain": [
       "'Wipro\\'s Chairman Rishad Premji took to Twitter after India lost to New Zealand at the 2021 ICC Men\\'s T20 World Cup. He tweeted, \"Are we too extreme in our emotions & expectations?...We lose a couple of games and feel it\\'s doomsday. Can\\'t great teams have an off season?\" He added, \"Our long track records of success matter.\"'"
      ]
     },
     "execution_count": 5,
     "metadata": {},
     "output_type": "execute_result"
    }
   ],
   "source": [
    "# lets use the content of first news item as 'article' to test my functions\n",
    "\n",
    "article = news_df.content[0]\n",
    "article"
   ]
  },
  {
   "cell_type": "markdown",
   "id": "c50d784d",
   "metadata": {},
   "source": [
    "1. Define a function named basic_clean. It should take in a string and apply some basic text cleaning to it:\n",
    "Lowercase everything Normalize unicode characters Replace anything that is not a letter, number, whitespace or a single quote."
   ]
  },
  {
   "cell_type": "code",
   "execution_count": 6,
   "id": "4413b776",
   "metadata": {},
   "outputs": [],
   "source": [
    "def basic_clean(string):\n",
    "    '''\n",
    "    This function takes in a string and\n",
    "    returns the string normalized.\n",
    "    '''\n",
    "    string = unicodedata.normalize('NFKD', string)\\\n",
    "             .encode('ascii', 'ignore')\\\n",
    "             .decode('utf-8', 'ignore')\n",
    "    string = re.sub(r'[^\\w\\s]', '', string).lower()\n",
    "    return string"
   ]
  },
  {
   "cell_type": "code",
   "execution_count": 7,
   "id": "cc73b6ff",
   "metadata": {},
   "outputs": [
    {
     "data": {
      "text/plain": [
       "'wipros chairman rishad premji took to twitter after india lost to new zealand at the 2021 icc mens t20 world cup he tweeted are we too extreme in our emotions  expectationswe lose a couple of games and feel its doomsday cant great teams have an off season he added our long track records of success matter'"
      ]
     },
     "execution_count": 7,
     "metadata": {},
     "output_type": "execute_result"
    }
   ],
   "source": [
    "# use the function defined above\n",
    "\n",
    "basic_clean(article)"
   ]
  },
  {
   "cell_type": "markdown",
   "id": "a1eaaf38",
   "metadata": {},
   "source": [
    "2. Define a function named tokenize. It should take in a string and tokenize all the words in the string.¶"
   ]
  },
  {
   "cell_type": "code",
   "execution_count": 8,
   "id": "ab83f7fa",
   "metadata": {},
   "outputs": [],
   "source": [
    "def tokenize(string):\n",
    "    '''\n",
    "    This function takes in a string and\n",
    "    returns a tokenized string.\n",
    "    '''\n",
    "    # Create tokenizer.\n",
    "    tokenizer = nltk.tokenize.ToktokTokenizer()\n",
    "    \n",
    "    # Use tokenizer\n",
    "    string = tokenizer.tokenize(string, return_str = True)\n",
    "    \n",
    "    return string"
   ]
  },
  {
   "cell_type": "code",
   "execution_count": 9,
   "id": "be53d762",
   "metadata": {},
   "outputs": [
    {
     "data": {
      "text/plain": [
       "'Wipro \\' s Chairman Rishad Premji took to Twitter after India lost to New Zealand at the 2021 ICC Men \\' s T20 World Cup. He tweeted , \" Are we too extreme in our emotions &amp; expectations? ... We lose a couple of games and feel it \\' s doomsday. Can \\' t great teams have an off season ? \" He added , \" Our long track records of success matter . \"'"
      ]
     },
     "execution_count": 9,
     "metadata": {},
     "output_type": "execute_result"
    }
   ],
   "source": [
    "# use the function defined above\n",
    "\n",
    "tokenize(article)"
   ]
  },
  {
   "cell_type": "markdown",
   "id": "80b6f918",
   "metadata": {},
   "source": [
    "3. Define a function named stem. It should accept some text and return the text after applying stemming to all the words.¶"
   ]
  },
  {
   "cell_type": "code",
   "execution_count": 10,
   "id": "8f1c87d5",
   "metadata": {},
   "outputs": [],
   "source": [
    "def stem(string):\n",
    "    '''\n",
    "    This function takes in a string and\n",
    "    returns a string with words stemmed.\n",
    "    '''\n",
    "    # Create porter stemmer.\n",
    "    ps = nltk.porter.PorterStemmer()\n",
    "    \n",
    "    # Use the stemmer to stem each word in the list of words we created by using split.\n",
    "    stems = [ps.stem(word) for word in string.split()]\n",
    "    \n",
    "    # Join our lists of words into a string again and assign to a variable.\n",
    "    string = ' '.join(stems)\n",
    "    \n",
    "    return string"
   ]
  },
  {
   "cell_type": "code",
   "execution_count": 11,
   "id": "798503f4",
   "metadata": {},
   "outputs": [
    {
     "data": {
      "text/plain": [
       "'wipro\\' chairman rishad premji took to twitter after india lost to new zealand at the 2021 icc men\\' t20 world cup. he tweeted, \"are we too extrem in our emot & expectations?...w lose a coupl of game and feel it\\' doomsday. can\\'t great team have an off season?\" he added, \"our long track record of success matter.\"'"
      ]
     },
     "execution_count": 11,
     "metadata": {},
     "output_type": "execute_result"
    }
   ],
   "source": [
    "# use the function defined above\n",
    "\n",
    "stem(article)"
   ]
  },
  {
   "cell_type": "markdown",
   "id": "28011168",
   "metadata": {},
   "source": [
    "4. Define a function named lemmatize. It should accept some text and return the text after applying lemmatization to each word.¶"
   ]
  },
  {
   "cell_type": "code",
   "execution_count": 13,
   "id": "98ac0a73",
   "metadata": {},
   "outputs": [],
   "source": [
    "def lemmatize(string):\n",
    "    '''\n",
    "    This function takes in string for and\n",
    "    returns a string with words lemmatized.\n",
    "    '''\n",
    "    # Create the lemmatizer.\n",
    "    wnl = nltk.stem.WordNetLemmatizer()\n",
    "    \n",
    "    # Use the lemmatizer on each word in the list of words we created by using split.\n",
    "    lemmas = [wnl.lemmatize(word) for word in string.split()]\n",
    "    \n",
    "    # Join our list of words into a string again and assign to a variable.\n",
    "    string = ' '.join(lemmas)\n",
    "    \n",
    "    return string"
   ]
  },
  {
   "cell_type": "code",
   "execution_count": 14,
   "id": "8bd69597",
   "metadata": {},
   "outputs": [
    {
     "data": {
      "text/plain": [
       "'Wipro\\'s Chairman Rishad Premji took to Twitter after India lost to New Zealand at the 2021 ICC Men\\'s T20 World Cup. He tweeted, \"Are we too extreme in our emotion & expectations?...We lose a couple of game and feel it\\'s doomsday. Can\\'t great team have an off season?\" He added, \"Our long track record of success matter.\"'"
      ]
     },
     "execution_count": 14,
     "metadata": {},
     "output_type": "execute_result"
    }
   ],
   "source": [
    "# use the function defined above\n",
    "\n",
    "lemmatize(article)"
   ]
  },
  {
   "cell_type": "markdown",
   "id": "4439cc75",
   "metadata": {},
   "source": [
    "5. Define a function named remove_stopwords. It should accept some text and return the text after removing all the stopwords.¶"
   ]
  },
  {
   "cell_type": "markdown",
   "id": "82059035",
   "metadata": {},
   "source": [
    "This function should define two optional parameters, extra_words and exclude_words. These parameters should define any additional stop words to include, and any words that we don't want to remove."
   ]
  },
  {
   "cell_type": "code",
   "execution_count": 15,
   "id": "338500e9",
   "metadata": {},
   "outputs": [
    {
     "data": {
      "text/plain": [
       "{'6', '8'}"
      ]
     },
     "execution_count": 15,
     "metadata": {},
     "output_type": "execute_result"
    }
   ],
   "source": [
    "set1 = {'1','2','4','5'}\n",
    "set2 = {'1','2','6','8'}\n",
    "\n",
    "(set2 - set1)"
   ]
  },
  {
   "cell_type": "code",
   "execution_count": 16,
   "id": "9a4ac692",
   "metadata": {},
   "outputs": [],
   "source": [
    "def remove_stopwords(string, extra_words = [], exclude_words = []):\n",
    "    '''\n",
    "    This function takes in a string, optional extra_words and exclude_words parameters\n",
    "    with default empty lists and returns a string.\n",
    "    '''\n",
    "    # Create stopword_list.\n",
    "    stopword_list = stopwords.words('english')\n",
    "    \n",
    "    # Remove 'exclude_words' from stopword_list to keep these in my text.\n",
    "    stopword_list = set(stopword_list) - set(exclude_words)\n",
    "    \n",
    "    # Add in 'extra_words' to stopword_list.\n",
    "    stopword_list = stopword_list.union(set(extra_words))\n",
    "\n",
    "    # Split words in string.\n",
    "    words = string.split()\n",
    "    \n",
    "    # Create a list of words from my string with stopwords removed and assign to variable.\n",
    "    filtered_words = [word for word in words if word not in stopword_list]\n",
    "    \n",
    "    # Join words in the list back into strings and assign to a variable.\n",
    "    string_without_stopwords = ' '.join(filtered_words)\n",
    "    \n",
    "    return string_without_stopwords"
   ]
  },
  {
   "cell_type": "code",
   "execution_count": 17,
   "id": "245ed8be",
   "metadata": {},
   "outputs": [
    {
     "data": {
      "text/plain": [
       "'Wipro\\'s Chairman Rishad Premji took Twitter India lost New Zealand 2021 ICC Men\\'s T20 World Cup. He tweeted, \"Are extreme emotions & expectations?...We lose couple games feel doomsday. Can\\'t great teams season?\" He added, \"Our long track records success matter.\"'"
      ]
     },
     "execution_count": 17,
     "metadata": {},
     "output_type": "execute_result"
    }
   ],
   "source": [
    "# use the function defined above\n",
    "\n",
    "remove_stopwords(article)"
   ]
  },
  {
   "cell_type": "markdown",
   "id": "6559f428",
   "metadata": {},
   "source": [
    "6. Use your data from the acquire to produce a dataframe of the news articles. Name the dataframe news_df.¶"
   ]
  },
  {
   "cell_type": "code",
   "execution_count": 18,
   "id": "134e2035",
   "metadata": {},
   "outputs": [
    {
     "data": {
      "text/html": [
       "<div>\n",
       "<style scoped>\n",
       "    .dataframe tbody tr th:only-of-type {\n",
       "        vertical-align: middle;\n",
       "    }\n",
       "\n",
       "    .dataframe tbody tr th {\n",
       "        vertical-align: top;\n",
       "    }\n",
       "\n",
       "    .dataframe thead th {\n",
       "        text-align: right;\n",
       "    }\n",
       "</style>\n",
       "<table border=\"1\" class=\"dataframe\">\n",
       "  <thead>\n",
       "    <tr style=\"text-align: right;\">\n",
       "      <th></th>\n",
       "      <th>title</th>\n",
       "      <th>content</th>\n",
       "      <th>category</th>\n",
       "    </tr>\n",
       "  </thead>\n",
       "  <tbody>\n",
       "    <tr>\n",
       "      <th>0</th>\n",
       "      <td>'Can't great teams have an off season?': Wipro...</td>\n",
       "      <td>Wipro's Chairman Rishad Premji took to Twitter...</td>\n",
       "      <td>business</td>\n",
       "    </tr>\n",
       "    <tr>\n",
       "      <th>1</th>\n",
       "      <td>'Squid Game' crypto that hit $2,862 after 2,30...</td>\n",
       "      <td>Netflix show 'Squid Game' inspired cryptocurre...</td>\n",
       "      <td>business</td>\n",
       "    </tr>\n",
       "    <tr>\n",
       "      <th>2</th>\n",
       "      <td>App accuses Meta of copying its logo, shares i...</td>\n",
       "      <td>A Berlin-based migraine app has accused Mark Z...</td>\n",
       "      <td>business</td>\n",
       "    </tr>\n",
       "    <tr>\n",
       "      <th>3</th>\n",
       "      <td>TikTok owner ByteDance breaks China's '996' wo...</td>\n",
       "      <td>TikTok owner ByteDance has mandated its employ...</td>\n",
       "      <td>business</td>\n",
       "    </tr>\n",
       "    <tr>\n",
       "      <th>4</th>\n",
       "      <td>$6 bn won't solve world hunger but it will sav...</td>\n",
       "      <td>UN World Food Programme's Chief David Beasley ...</td>\n",
       "      <td>business</td>\n",
       "    </tr>\n",
       "  </tbody>\n",
       "</table>\n",
       "</div>"
      ],
      "text/plain": [
       "                                               title  \\\n",
       "0  'Can't great teams have an off season?': Wipro...   \n",
       "1  'Squid Game' crypto that hit $2,862 after 2,30...   \n",
       "2  App accuses Meta of copying its logo, shares i...   \n",
       "3  TikTok owner ByteDance breaks China's '996' wo...   \n",
       "4  $6 bn won't solve world hunger but it will sav...   \n",
       "\n",
       "                                             content  category  \n",
       "0  Wipro's Chairman Rishad Premji took to Twitter...  business  \n",
       "1  Netflix show 'Squid Game' inspired cryptocurre...  business  \n",
       "2  A Berlin-based migraine app has accused Mark Z...  business  \n",
       "3  TikTok owner ByteDance has mandated its employ...  business  \n",
       "4  UN World Food Programme's Chief David Beasley ...  business  "
      ]
     },
     "execution_count": 18,
     "metadata": {},
     "output_type": "execute_result"
    }
   ],
   "source": [
    "# check head of my news_df dataframe:\n",
    "\n",
    "news_df.head()"
   ]
  },
  {
   "cell_type": "code",
   "execution_count": 19,
   "id": "7025f409",
   "metadata": {},
   "outputs": [
    {
     "data": {
      "text/plain": [
       "0     wipros chairman rishad premji took twitter ind...\n",
       "1     netflix show squid game inspired cryptocurrenc...\n",
       "2     berlinbased migraine app ha accused mark zucke...\n",
       "3     tiktok owner bytedance ha mandated employee ch...\n",
       "4     un world food programme chief david beasley re...\n",
       "                            ...                        \n",
       "94    asked cast one heroine alia bhatt telugu film ...\n",
       "95    singer ed sheeran opened like interest child s...\n",
       "96    speaking jee le zaraa actorfilmmaker farhan ak...\n",
       "97    actor salman khan ha rooted actress shweta tiw...\n",
       "98    asked manages cordial equation people probably...\n",
       "Name: content, Length: 99, dtype: object"
      ]
     },
     "execution_count": 19,
     "metadata": {},
     "output_type": "execute_result"
    }
   ],
   "source": [
    "# use all the functions to see if they work on news_df's content column\n",
    "news_df['content'].apply(basic_clean)\\\n",
    ".apply(tokenize)\\\n",
    ".apply(lemmatize)\\\n",
    ".apply(remove_stopwords)"
   ]
  },
  {
   "cell_type": "markdown",
   "id": "9d50bafc",
   "metadata": {},
   "source": [
    "7. Make another dataframe for the Codeup blog posts. Name the dataframe codeup_df.¶"
   ]
  },
  {
   "cell_type": "code",
   "execution_count": 20,
   "id": "b43c8ab6",
   "metadata": {},
   "outputs": [
    {
     "name": "stderr",
     "output_type": "stream",
     "text": [
      "/Users/Josh/codeup-data-science/natural-language-processing-exercises/acquire.py:14: GuessedAtParserWarning: No parser was explicitly specified, so I'm using the best available HTML parser for this system (\"lxml\"). This usually isn't a problem, but if you run this code on another system, or in a different virtual environment, it may use a different parser and behave differently.\n",
      "\n",
      "The code that caused this warning is on line 14 of the file /Users/Josh/codeup-data-science/natural-language-processing-exercises/acquire.py. To get rid of this warning, pass the additional argument 'features=\"lxml\"' to the BeautifulSoup constructor.\n",
      "\n",
      "  soup = BeautifulSoup(response.text)\n",
      "/Users/Josh/codeup-data-science/natural-language-processing-exercises/acquire.py:21: GuessedAtParserWarning: No parser was explicitly specified, so I'm using the best available HTML parser for this system (\"lxml\"). This usually isn't a problem, but if you run this code on another system, or in a different virtual environment, it may use a different parser and behave differently.\n",
      "\n",
      "The code that caused this warning is on line 21 of the file /Users/Josh/codeup-data-science/natural-language-processing-exercises/acquire.py. To get rid of this warning, pass the additional argument 'features=\"lxml\"' to the BeautifulSoup constructor.\n",
      "\n",
      "  soup = BeautifulSoup(response.text)\n"
     ]
    }
   ],
   "source": [
    "today = strftime('%Y-%m-%d')\n",
    "codeup_df = acquire.get_blog_articles()"
   ]
  },
  {
   "cell_type": "code",
   "execution_count": 21,
   "id": "1aa8b052",
   "metadata": {},
   "outputs": [
    {
     "data": {
      "text/html": [
       "<div>\n",
       "<style scoped>\n",
       "    .dataframe tbody tr th:only-of-type {\n",
       "        vertical-align: middle;\n",
       "    }\n",
       "\n",
       "    .dataframe tbody tr th {\n",
       "        vertical-align: top;\n",
       "    }\n",
       "\n",
       "    .dataframe thead th {\n",
       "        text-align: right;\n",
       "    }\n",
       "</style>\n",
       "<table border=\"1\" class=\"dataframe\">\n",
       "  <thead>\n",
       "    <tr style=\"text-align: right;\">\n",
       "      <th></th>\n",
       "      <th>title</th>\n",
       "      <th>published</th>\n",
       "      <th>content</th>\n",
       "    </tr>\n",
       "  </thead>\n",
       "  <tbody>\n",
       "    <tr>\n",
       "      <th>0</th>\n",
       "      <td>Boris – Behind the Billboards</td>\n",
       "      <td>Oct 3, 2021</td>\n",
       "      <td></td>\n",
       "    </tr>\n",
       "    <tr>\n",
       "      <th>1</th>\n",
       "      <td>Is Codeup the Best Bootcamp in San Antonio…or ...</td>\n",
       "      <td>Sep 16, 2021</td>\n",
       "      <td>Looking for the best data science bootcamp in ...</td>\n",
       "    </tr>\n",
       "    <tr>\n",
       "      <th>2</th>\n",
       "      <td>Codeup Launches First Podcast: Hire Tech</td>\n",
       "      <td>Aug 25, 2021</td>\n",
       "      <td>Any podcast enthusiasts out there? We are plea...</td>\n",
       "    </tr>\n",
       "    <tr>\n",
       "      <th>3</th>\n",
       "      <td>Why Should I Become a System Administrator?</td>\n",
       "      <td>Aug 23, 2021</td>\n",
       "      <td>With so many tech careers in demand, why choos...</td>\n",
       "    </tr>\n",
       "    <tr>\n",
       "      <th>4</th>\n",
       "      <td>Announcing our Candidacy for Accreditation!</td>\n",
       "      <td>Jun 30, 2021</td>\n",
       "      <td>Did you know that even though we’re an indepen...</td>\n",
       "    </tr>\n",
       "  </tbody>\n",
       "</table>\n",
       "</div>"
      ],
      "text/plain": [
       "                                               title     published  \\\n",
       "0                      Boris – Behind the Billboards   Oct 3, 2021   \n",
       "1  Is Codeup the Best Bootcamp in San Antonio…or ...  Sep 16, 2021   \n",
       "2           Codeup Launches First Podcast: Hire Tech  Aug 25, 2021   \n",
       "3        Why Should I Become a System Administrator?  Aug 23, 2021   \n",
       "4        Announcing our Candidacy for Accreditation!  Jun 30, 2021   \n",
       "\n",
       "                                             content  \n",
       "0                                                     \n",
       "1  Looking for the best data science bootcamp in ...  \n",
       "2  Any podcast enthusiasts out there? We are plea...  \n",
       "3  With so many tech careers in demand, why choos...  \n",
       "4  Did you know that even though we’re an indepen...  "
      ]
     },
     "execution_count": 21,
     "metadata": {},
     "output_type": "execute_result"
    }
   ],
   "source": [
    "codeup_df.head()"
   ]
  },
  {
   "cell_type": "markdown",
   "id": "0edd8232",
   "metadata": {},
   "source": [
    "8. For each dataframe, produce the following columns:\n",
    "- title to hold the title\n",
    "- original to hold the original article/post content\n",
    "- clean to hold the normalized and tokenized original with the stopwords removed.\n",
    "- stemmed to hold the stemmed version of the cleaned data.\n",
    "- lemmatized to hold the lemmatized version of the cleaned data."
   ]
  },
  {
   "cell_type": "code",
   "execution_count": 22,
   "id": "bdb8e8c0",
   "metadata": {},
   "outputs": [],
   "source": [
    "def prep_article_data(df, column, extra_words=[], exclude_words=[]):\n",
    "    '''\n",
    "    This function take in a df and the string name for a text column with \n",
    "    option to pass lists for extra_words and exclude_words and\n",
    "    returns a df with the text article title, original text, stemmed text,\n",
    "    lemmatized text, cleaned, tokenized, & lemmatized text with stopwords removed.\n",
    "    '''\n",
    "    df['clean'] = df[column].apply(basic_clean)\\\n",
    "                            .apply(tokenize)\\\n",
    "                            .apply(remove_stopwords, \n",
    "                                   extra_words=extra_words, \n",
    "                                   exclude_words=exclude_words)\n",
    "    \n",
    "    df['stemmed'] = df[column].apply(basic_clean)\\\n",
    "                            .apply(tokenize)\\\n",
    "                            .apply(stem)\\\n",
    "                            .apply(remove_stopwords, \n",
    "                                   extra_words=extra_words, \n",
    "                                   exclude_words=exclude_words)\n",
    "    \n",
    "    df['lemmatized'] = df[column].apply(basic_clean)\\\n",
    "                            .apply(tokenize)\\\n",
    "                            .apply(lemmatize)\\\n",
    "                            .apply(remove_stopwords, \n",
    "                                   extra_words=extra_words, \n",
    "                                   exclude_words=exclude_words)\n",
    "    \n",
    "    return df[['title', column,'clean', 'stemmed', 'lemmatized']]"
   ]
  },
  {
   "cell_type": "code",
   "execution_count": 23,
   "id": "a46be07d",
   "metadata": {},
   "outputs": [
    {
     "data": {
      "text/html": [
       "<div>\n",
       "<style scoped>\n",
       "    .dataframe tbody tr th:only-of-type {\n",
       "        vertical-align: middle;\n",
       "    }\n",
       "\n",
       "    .dataframe tbody tr th {\n",
       "        vertical-align: top;\n",
       "    }\n",
       "\n",
       "    .dataframe thead th {\n",
       "        text-align: right;\n",
       "    }\n",
       "</style>\n",
       "<table border=\"1\" class=\"dataframe\">\n",
       "  <thead>\n",
       "    <tr style=\"text-align: right;\">\n",
       "      <th></th>\n",
       "      <th>title</th>\n",
       "      <th>content</th>\n",
       "      <th>clean</th>\n",
       "      <th>stemmed</th>\n",
       "      <th>lemmatized</th>\n",
       "    </tr>\n",
       "  </thead>\n",
       "  <tbody>\n",
       "    <tr>\n",
       "      <th>0</th>\n",
       "      <td>'Can't great teams have an off season?': Wipro...</td>\n",
       "      <td>Wipro's Chairman Rishad Premji took to Twitter...</td>\n",
       "      <td>wipros chairman rishad premji took twitter ind...</td>\n",
       "      <td>wipro chairman rishad premji took twitter indi...</td>\n",
       "      <td>wipros chairman rishad premji took twitter ind...</td>\n",
       "    </tr>\n",
       "    <tr>\n",
       "      <th>1</th>\n",
       "      <td>'Squid Game' crypto that hit $2,862 after 2,30...</td>\n",
       "      <td>Netflix show 'Squid Game' inspired cryptocurre...</td>\n",
       "      <td>netflix show squid game inspired cryptocurrenc...</td>\n",
       "      <td>netflix show squid game inspir cryptocurr squi...</td>\n",
       "      <td>netflix show squid game inspired cryptocurrenc...</td>\n",
       "    </tr>\n",
       "    <tr>\n",
       "      <th>2</th>\n",
       "      <td>App accuses Meta of copying its logo, shares i...</td>\n",
       "      <td>A Berlin-based migraine app has accused Mark Z...</td>\n",
       "      <td>berlinbased migraine app accused mark zuckerbe...</td>\n",
       "      <td>berlinbas migrain app accus mark zuckerberg co...</td>\n",
       "      <td>berlinbased migraine app accused mark zuckerbe...</td>\n",
       "    </tr>\n",
       "    <tr>\n",
       "      <th>3</th>\n",
       "      <td>TikTok owner ByteDance breaks China's '996' wo...</td>\n",
       "      <td>TikTok owner ByteDance has mandated its employ...</td>\n",
       "      <td>tiktok owner bytedance mandated employees chin...</td>\n",
       "      <td>tiktok owner byted mandat employe china onli w...</td>\n",
       "      <td>tiktok owner bytedance mandated employee china...</td>\n",
       "    </tr>\n",
       "    <tr>\n",
       "      <th>4</th>\n",
       "      <td>$6 bn won't solve world hunger but it will sav...</td>\n",
       "      <td>UN World Food Programme's Chief David Beasley ...</td>\n",
       "      <td>un world food programmes chief david beasley r...</td>\n",
       "      <td>un world food programm chief david beasley res...</td>\n",
       "      <td>un world food programme chief david beasley re...</td>\n",
       "    </tr>\n",
       "  </tbody>\n",
       "</table>\n",
       "</div>"
      ],
      "text/plain": [
       "                                               title  \\\n",
       "0  'Can't great teams have an off season?': Wipro...   \n",
       "1  'Squid Game' crypto that hit $2,862 after 2,30...   \n",
       "2  App accuses Meta of copying its logo, shares i...   \n",
       "3  TikTok owner ByteDance breaks China's '996' wo...   \n",
       "4  $6 bn won't solve world hunger but it will sav...   \n",
       "\n",
       "                                             content  \\\n",
       "0  Wipro's Chairman Rishad Premji took to Twitter...   \n",
       "1  Netflix show 'Squid Game' inspired cryptocurre...   \n",
       "2  A Berlin-based migraine app has accused Mark Z...   \n",
       "3  TikTok owner ByteDance has mandated its employ...   \n",
       "4  UN World Food Programme's Chief David Beasley ...   \n",
       "\n",
       "                                               clean  \\\n",
       "0  wipros chairman rishad premji took twitter ind...   \n",
       "1  netflix show squid game inspired cryptocurrenc...   \n",
       "2  berlinbased migraine app accused mark zuckerbe...   \n",
       "3  tiktok owner bytedance mandated employees chin...   \n",
       "4  un world food programmes chief david beasley r...   \n",
       "\n",
       "                                             stemmed  \\\n",
       "0  wipro chairman rishad premji took twitter indi...   \n",
       "1  netflix show squid game inspir cryptocurr squi...   \n",
       "2  berlinbas migrain app accus mark zuckerberg co...   \n",
       "3  tiktok owner byted mandat employe china onli w...   \n",
       "4  un world food programm chief david beasley res...   \n",
       "\n",
       "                                          lemmatized  \n",
       "0  wipros chairman rishad premji took twitter ind...  \n",
       "1  netflix show squid game inspired cryptocurrenc...  \n",
       "2  berlinbased migraine app accused mark zuckerbe...  \n",
       "3  tiktok owner bytedance mandated employee china...  \n",
       "4  un world food programme chief david beasley re...  "
      ]
     },
     "execution_count": 23,
     "metadata": {},
     "output_type": "execute_result"
    }
   ],
   "source": [
    "# use the function defined above for news_df's content column.\n",
    "\n",
    "prep_article_data(news_df, 'content', extra_words = ['ha'], exclude_words = ['no']).head()"
   ]
  },
  {
   "cell_type": "code",
   "execution_count": null,
   "id": "16e2b42b",
   "metadata": {},
   "outputs": [],
   "source": []
  }
 ],
 "metadata": {
  "kernelspec": {
   "display_name": "Python 3",
   "language": "python",
   "name": "python3"
  },
  "language_info": {
   "codemirror_mode": {
    "name": "ipython",
    "version": 3
   },
   "file_extension": ".py",
   "mimetype": "text/x-python",
   "name": "python",
   "nbconvert_exporter": "python",
   "pygments_lexer": "ipython3",
   "version": "3.8.8"
  }
 },
 "nbformat": 4,
 "nbformat_minor": 5
}
