{
 "cells": [
  {
   "cell_type": "code",
   "execution_count": 9,
   "id": "d6af846d",
   "metadata": {},
   "outputs": [],
   "source": [
    "import requests\n",
    "import pandas as pd\n",
    "from bs4 import BeautifulSoup\n",
    "import os"
   ]
  },
  {
   "cell_type": "code",
   "execution_count": 10,
   "id": "e471a147",
   "metadata": {},
   "outputs": [],
   "source": [
    "response = requests.get('https://web-scraping-demo.zgulde.net/news')\n",
    "soup = BeautifulSoup(response.text)"
   ]
  },
  {
   "cell_type": "code",
   "execution_count": 13,
   "id": "679e1e66",
   "metadata": {},
   "outputs": [],
   "source": [
    "def parse_news_article(article):\n",
    "    title = article.h2.text\n",
    "    date, author = article.select('.italic')[0].find_all('p')\n",
    "    return {'title': title, 'date': date.text, 'author': author.text}"
   ]
  },
  {
   "cell_type": "code",
   "execution_count": 15,
   "id": "2f9b1e4b",
   "metadata": {},
   "outputs": [
    {
     "data": {
      "text/html": [
       "<div>\n",
       "<style scoped>\n",
       "    .dataframe tbody tr th:only-of-type {\n",
       "        vertical-align: middle;\n",
       "    }\n",
       "\n",
       "    .dataframe tbody tr th {\n",
       "        vertical-align: top;\n",
       "    }\n",
       "\n",
       "    .dataframe thead th {\n",
       "        text-align: right;\n",
       "    }\n",
       "</style>\n",
       "<table border=\"1\" class=\"dataframe\">\n",
       "  <thead>\n",
       "    <tr style=\"text-align: right;\">\n",
       "      <th></th>\n",
       "      <th>title</th>\n",
       "      <th>date</th>\n",
       "      <th>author</th>\n",
       "    </tr>\n",
       "  </thead>\n",
       "  <tbody>\n",
       "    <tr>\n",
       "      <th>0</th>\n",
       "      <td>billion inside development</td>\n",
       "      <td>2001-09-14</td>\n",
       "      <td>By James Alexander</td>\n",
       "    </tr>\n",
       "    <tr>\n",
       "      <th>1</th>\n",
       "      <td>couple billion book</td>\n",
       "      <td>1972-08-17</td>\n",
       "      <td>By Nicole Martinez</td>\n",
       "    </tr>\n",
       "    <tr>\n",
       "      <th>2</th>\n",
       "      <td>become reality black</td>\n",
       "      <td>2012-11-27</td>\n",
       "      <td>By Lisa Obrien</td>\n",
       "    </tr>\n",
       "    <tr>\n",
       "      <th>3</th>\n",
       "      <td>friend home cup</td>\n",
       "      <td>1990-09-08</td>\n",
       "      <td>By Brandon Gonzalez</td>\n",
       "    </tr>\n",
       "    <tr>\n",
       "      <th>4</th>\n",
       "      <td>maybe imagine total</td>\n",
       "      <td>1999-02-09</td>\n",
       "      <td>By Sandy Wilkinson</td>\n",
       "    </tr>\n",
       "    <tr>\n",
       "      <th>5</th>\n",
       "      <td>should partner fight</td>\n",
       "      <td>1991-04-04</td>\n",
       "      <td>By Olivia Hill</td>\n",
       "    </tr>\n",
       "    <tr>\n",
       "      <th>6</th>\n",
       "      <td>ahead long would</td>\n",
       "      <td>2003-04-12</td>\n",
       "      <td>By Valerie Neal</td>\n",
       "    </tr>\n",
       "    <tr>\n",
       "      <th>7</th>\n",
       "      <td>enjoy whole it</td>\n",
       "      <td>1976-02-24</td>\n",
       "      <td>By Scott Daniel</td>\n",
       "    </tr>\n",
       "    <tr>\n",
       "      <th>8</th>\n",
       "      <td>more pick both</td>\n",
       "      <td>1980-09-30</td>\n",
       "      <td>By Rebecca Gray</td>\n",
       "    </tr>\n",
       "    <tr>\n",
       "      <th>9</th>\n",
       "      <td>phone you future</td>\n",
       "      <td>2002-12-25</td>\n",
       "      <td>By Kathy Aguirre</td>\n",
       "    </tr>\n",
       "    <tr>\n",
       "      <th>10</th>\n",
       "      <td>single effort good</td>\n",
       "      <td>2000-12-31</td>\n",
       "      <td>By Bryan Gonzales</td>\n",
       "    </tr>\n",
       "    <tr>\n",
       "      <th>11</th>\n",
       "      <td>entire will American</td>\n",
       "      <td>1987-08-04</td>\n",
       "      <td>By Angela Gonzalez</td>\n",
       "    </tr>\n",
       "  </tbody>\n",
       "</table>\n",
       "</div>"
      ],
      "text/plain": [
       "                         title          date                author\n",
       "0   billion inside development   2001-09-14    By James Alexander \n",
       "1          couple billion book   1972-08-17    By Nicole Martinez \n",
       "2         become reality black   2012-11-27        By Lisa Obrien \n",
       "3              friend home cup   1990-09-08   By Brandon Gonzalez \n",
       "4          maybe imagine total   1999-02-09    By Sandy Wilkinson \n",
       "5         should partner fight   1991-04-04        By Olivia Hill \n",
       "6             ahead long would   2003-04-12       By Valerie Neal \n",
       "7               enjoy whole it   1976-02-24       By Scott Daniel \n",
       "8               more pick both   1980-09-30       By Rebecca Gray \n",
       "9             phone you future   2002-12-25      By Kathy Aguirre \n",
       "10          single effort good   2000-12-31     By Bryan Gonzales \n",
       "11        entire will American   1987-08-04    By Angela Gonzalez "
      ]
     },
     "execution_count": 15,
     "metadata": {},
     "output_type": "execute_result"
    }
   ],
   "source": [
    "response = requests.get('https://web-scraping-demo.zgulde.net/news')\n",
    "soup = BeautifulSoup(response.text)\n",
    "articles = soup.select('.grid.gap-y-12 > div')\n",
    "pd.DataFrame([parse_news_article(article) for article in articles])"
   ]
  },
  {
   "cell_type": "code",
   "execution_count": null,
   "id": "f3dd683e",
   "metadata": {},
   "outputs": [],
   "source": []
  },
  {
   "cell_type": "code",
   "execution_count": null,
   "id": "08f17bbb",
   "metadata": {},
   "outputs": [],
   "source": []
  },
  {
   "cell_type": "code",
   "execution_count": null,
   "id": "435bc0d1",
   "metadata": {},
   "outputs": [],
   "source": []
  }
 ],
 "metadata": {
  "kernelspec": {
   "display_name": "Python 3",
   "language": "python",
   "name": "python3"
  },
  "language_info": {
   "codemirror_mode": {
    "name": "ipython",
    "version": 3
   },
   "file_extension": ".py",
   "mimetype": "text/x-python",
   "name": "python",
   "nbconvert_exporter": "python",
   "pygments_lexer": "ipython3",
   "version": "3.8.8"
  }
 },
 "nbformat": 4,
 "nbformat_minor": 5
}
